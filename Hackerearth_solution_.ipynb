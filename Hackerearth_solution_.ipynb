{
  "nbformat": 4,
  "nbformat_minor": 0,
  "metadata": {
    "colab": {
      "name": "Hackerearth solution .ipynb",
      "provenance": [],
      "authorship_tag": "ABX9TyPD6Uv7K11/b0SEJSkV9dRK",
      "include_colab_link": true
    },
    "kernelspec": {
      "name": "python3",
      "display_name": "Python 3"
    },
    "language_info": {
      "name": "python"
    }
  },
  "cells": [
    {
      "cell_type": "markdown",
      "metadata": {
        "id": "view-in-github",
        "colab_type": "text"
      },
      "source": [
        "<a href=\"https://colab.research.google.com/github/megha-mv/Self-Projects/blob/main/Hackerearth_solution_.ipynb\" target=\"_parent\"><img src=\"https://colab.research.google.com/assets/colab-badge.svg\" alt=\"Open In Colab\"/></a>"
      ]
    },
    {
      "cell_type": "markdown",
      "metadata": {
        "id": "fQt27yT_G_LY"
      },
      "source": [
        "You are Given with following conditions:\n",
        "\n",
        "\n",
        "*   An interger N\n",
        "\n",
        "*   Array A containing N positive integers (1-based)\n",
        "\n",
        "*   Positive integer B\n",
        "\n",
        "**Task**\n",
        "\n",
        "For each interger *'u'* such that 0<=u<B. Determine  the number of triplets(i,j,k) satisfying 1<=i<=j<=k<=N and Ai+Aj+Ak whwn divided by B leaves u as remainder.(Mathematically  (Ai+Aj+Ak)Mod(B)=u\n",
        "\n",
        "\n",
        "\n"
      ]
    },
    {
      "cell_type": "code",
      "metadata": {
        "colab": {
          "base_uri": "https://localhost:8080/"
        },
        "id": "Dba4UcUdG0xL",
        "outputId": "49c5e94f-1703-4627-bc76-39f89eab8b03"
      },
      "source": [
        "from itertools import permutations\n",
        "list1 = [4,8,9,10] \n",
        "# list1.insert(0,0)                     # this insertion will change the index value for actual list\n",
        "list1=[0]+list1\n",
        "print(list1) \n",
        "N=5\n",
        "l=[]\n",
        "for i in range(1,N):\n",
        "  l.append(i)\n",
        "perm = permutations(l,3)\n",
        "lop=[]\n",
        "for i in list(perm):\n",
        "  lop.append(i)\n",
        "# print(lop)\n",
        "cop=[]\n",
        "for i in lop:\n",
        "  if(i[0]<i[1] and i[1]<i[2]):\n",
        "    cop.append(i)\n",
        "# print(cop)\n",
        "# from array take only those values for which i,j and k in given in cop list\n",
        "sumoflist=[]\n",
        "for i in cop:\n",
        "  s1=i[0]\n",
        "  s2=i[1]\n",
        "  s3=i[2]\n",
        "  sumoflist.append(list1[s1]+list1[s2]+list1[s3])\n",
        "# print(sumoflist)\n",
        "u=[]\n",
        "b=4\n",
        "for i in sumoflist:\n",
        "  u.append(i%b)\n",
        "# print('this is u list',u)\n",
        "remainder_list=[]\n",
        "for i in range(b):\n",
        "  remainder_list.append(i)\n",
        "# print('This is remainder list',remainder_list)\n",
        "#\n",
        "count1=[]\n",
        "for i in remainder_list:\n",
        "  c2=u.count(i)\n",
        "  count1.append(c2)\n",
        "print(count1)"
      ],
      "execution_count": 1,
      "outputs": [
        {
          "output_type": "stream",
          "name": "stdout",
          "text": [
            "[0, 4, 8, 9, 10]\n",
            "[0, 1, 1, 2]\n"
          ]
        }
      ]
    }
  ]
}